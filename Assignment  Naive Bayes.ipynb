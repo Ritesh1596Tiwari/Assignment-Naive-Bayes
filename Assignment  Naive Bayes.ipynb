{
 "cells": [
  {
   "cell_type": "code",
   "execution_count": 1,
   "id": "92772987",
   "metadata": {
    "ExecuteTime": {
     "end_time": "2023-04-06T15:10:02.674259Z",
     "start_time": "2023-04-06T15:09:59.408192Z"
    }
   },
   "outputs": [],
   "source": [
    "import numpy as np\n",
    "import pandas as pd\n",
    "import matplotlib.pyplot as plt\n",
    "import seaborn as sns\n",
    "\n",
    "#Naive Bayes\n",
    "from sklearn.naive_bayes import MultinomialNB as MB\n",
    "from sklearn.naive_bayes import GaussianNB as GB\n",
    "\n",
    "%matplotlib inline"
   ]
  },
  {
   "cell_type": "code",
   "execution_count": 2,
   "id": "99a3df09",
   "metadata": {
    "ExecuteTime": {
     "end_time": "2023-04-06T15:10:02.783637Z",
     "start_time": "2023-04-06T15:10:02.674259Z"
    }
   },
   "outputs": [],
   "source": [
    "train = pd.read_csv('SalaryData_Train.csv')\n",
    "test = pd.read_csv('SalaryData_Test.csv')"
   ]
  },
  {
   "cell_type": "code",
   "execution_count": null,
   "id": "1210d321",
   "metadata": {
    "ExecuteTime": {
     "end_time": "2023-04-06T14:28:09.862424Z",
     "start_time": "2023-04-06T14:28:09.856210Z"
    }
   },
   "outputs": [],
   "source": []
  },
  {
   "cell_type": "code",
   "execution_count": 3,
   "id": "6c0da6e0",
   "metadata": {
    "ExecuteTime": {
     "end_time": "2023-04-06T15:10:02.830455Z",
     "start_time": "2023-04-06T15:10:02.783637Z"
    }
   },
   "outputs": [
    {
     "data": {
      "text/html": [
       "<div>\n",
       "<style scoped>\n",
       "    .dataframe tbody tr th:only-of-type {\n",
       "        vertical-align: middle;\n",
       "    }\n",
       "\n",
       "    .dataframe tbody tr th {\n",
       "        vertical-align: top;\n",
       "    }\n",
       "\n",
       "    .dataframe thead th {\n",
       "        text-align: right;\n",
       "    }\n",
       "</style>\n",
       "<table border=\"1\" class=\"dataframe\">\n",
       "  <thead>\n",
       "    <tr style=\"text-align: right;\">\n",
       "      <th></th>\n",
       "      <th>age</th>\n",
       "      <th>workclass</th>\n",
       "      <th>education</th>\n",
       "      <th>educationno</th>\n",
       "      <th>maritalstatus</th>\n",
       "      <th>occupation</th>\n",
       "      <th>relationship</th>\n",
       "      <th>race</th>\n",
       "      <th>sex</th>\n",
       "      <th>capitalgain</th>\n",
       "      <th>capitalloss</th>\n",
       "      <th>hoursperweek</th>\n",
       "      <th>native</th>\n",
       "      <th>Salary</th>\n",
       "    </tr>\n",
       "  </thead>\n",
       "  <tbody>\n",
       "    <tr>\n",
       "      <th>0</th>\n",
       "      <td>39</td>\n",
       "      <td>State-gov</td>\n",
       "      <td>Bachelors</td>\n",
       "      <td>13</td>\n",
       "      <td>Never-married</td>\n",
       "      <td>Adm-clerical</td>\n",
       "      <td>Not-in-family</td>\n",
       "      <td>White</td>\n",
       "      <td>Male</td>\n",
       "      <td>2174</td>\n",
       "      <td>0</td>\n",
       "      <td>40</td>\n",
       "      <td>United-States</td>\n",
       "      <td>&lt;=50K</td>\n",
       "    </tr>\n",
       "    <tr>\n",
       "      <th>1</th>\n",
       "      <td>50</td>\n",
       "      <td>Self-emp-not-inc</td>\n",
       "      <td>Bachelors</td>\n",
       "      <td>13</td>\n",
       "      <td>Married-civ-spouse</td>\n",
       "      <td>Exec-managerial</td>\n",
       "      <td>Husband</td>\n",
       "      <td>White</td>\n",
       "      <td>Male</td>\n",
       "      <td>0</td>\n",
       "      <td>0</td>\n",
       "      <td>13</td>\n",
       "      <td>United-States</td>\n",
       "      <td>&lt;=50K</td>\n",
       "    </tr>\n",
       "    <tr>\n",
       "      <th>2</th>\n",
       "      <td>38</td>\n",
       "      <td>Private</td>\n",
       "      <td>HS-grad</td>\n",
       "      <td>9</td>\n",
       "      <td>Divorced</td>\n",
       "      <td>Handlers-cleaners</td>\n",
       "      <td>Not-in-family</td>\n",
       "      <td>White</td>\n",
       "      <td>Male</td>\n",
       "      <td>0</td>\n",
       "      <td>0</td>\n",
       "      <td>40</td>\n",
       "      <td>United-States</td>\n",
       "      <td>&lt;=50K</td>\n",
       "    </tr>\n",
       "    <tr>\n",
       "      <th>3</th>\n",
       "      <td>53</td>\n",
       "      <td>Private</td>\n",
       "      <td>11th</td>\n",
       "      <td>7</td>\n",
       "      <td>Married-civ-spouse</td>\n",
       "      <td>Handlers-cleaners</td>\n",
       "      <td>Husband</td>\n",
       "      <td>Black</td>\n",
       "      <td>Male</td>\n",
       "      <td>0</td>\n",
       "      <td>0</td>\n",
       "      <td>40</td>\n",
       "      <td>United-States</td>\n",
       "      <td>&lt;=50K</td>\n",
       "    </tr>\n",
       "    <tr>\n",
       "      <th>4</th>\n",
       "      <td>28</td>\n",
       "      <td>Private</td>\n",
       "      <td>Bachelors</td>\n",
       "      <td>13</td>\n",
       "      <td>Married-civ-spouse</td>\n",
       "      <td>Prof-specialty</td>\n",
       "      <td>Wife</td>\n",
       "      <td>Black</td>\n",
       "      <td>Female</td>\n",
       "      <td>0</td>\n",
       "      <td>0</td>\n",
       "      <td>40</td>\n",
       "      <td>Cuba</td>\n",
       "      <td>&lt;=50K</td>\n",
       "    </tr>\n",
       "  </tbody>\n",
       "</table>\n",
       "</div>"
      ],
      "text/plain": [
       "   age          workclass   education  educationno        maritalstatus  \\\n",
       "0   39          State-gov   Bachelors           13        Never-married   \n",
       "1   50   Self-emp-not-inc   Bachelors           13   Married-civ-spouse   \n",
       "2   38            Private     HS-grad            9             Divorced   \n",
       "3   53            Private        11th            7   Married-civ-spouse   \n",
       "4   28            Private   Bachelors           13   Married-civ-spouse   \n",
       "\n",
       "           occupation    relationship    race      sex  capitalgain  \\\n",
       "0        Adm-clerical   Not-in-family   White     Male         2174   \n",
       "1     Exec-managerial         Husband   White     Male            0   \n",
       "2   Handlers-cleaners   Not-in-family   White     Male            0   \n",
       "3   Handlers-cleaners         Husband   Black     Male            0   \n",
       "4      Prof-specialty            Wife   Black   Female            0   \n",
       "\n",
       "   capitalloss  hoursperweek          native  Salary  \n",
       "0            0            40   United-States   <=50K  \n",
       "1            0            13   United-States   <=50K  \n",
       "2            0            40   United-States   <=50K  \n",
       "3            0            40   United-States   <=50K  \n",
       "4            0            40            Cuba   <=50K  "
      ]
     },
     "execution_count": 3,
     "metadata": {},
     "output_type": "execute_result"
    }
   ],
   "source": [
    "train.head()"
   ]
  },
  {
   "cell_type": "code",
   "execution_count": 4,
   "id": "791b70cb",
   "metadata": {
    "ExecuteTime": {
     "end_time": "2023-04-06T15:10:02.861768Z",
     "start_time": "2023-04-06T15:10:02.830455Z"
    }
   },
   "outputs": [
    {
     "data": {
      "text/html": [
       "<div>\n",
       "<style scoped>\n",
       "    .dataframe tbody tr th:only-of-type {\n",
       "        vertical-align: middle;\n",
       "    }\n",
       "\n",
       "    .dataframe tbody tr th {\n",
       "        vertical-align: top;\n",
       "    }\n",
       "\n",
       "    .dataframe thead th {\n",
       "        text-align: right;\n",
       "    }\n",
       "</style>\n",
       "<table border=\"1\" class=\"dataframe\">\n",
       "  <thead>\n",
       "    <tr style=\"text-align: right;\">\n",
       "      <th></th>\n",
       "      <th>age</th>\n",
       "      <th>workclass</th>\n",
       "      <th>education</th>\n",
       "      <th>educationno</th>\n",
       "      <th>maritalstatus</th>\n",
       "      <th>occupation</th>\n",
       "      <th>relationship</th>\n",
       "      <th>race</th>\n",
       "      <th>sex</th>\n",
       "      <th>capitalgain</th>\n",
       "      <th>capitalloss</th>\n",
       "      <th>hoursperweek</th>\n",
       "      <th>native</th>\n",
       "      <th>Salary</th>\n",
       "    </tr>\n",
       "  </thead>\n",
       "  <tbody>\n",
       "    <tr>\n",
       "      <th>0</th>\n",
       "      <td>25</td>\n",
       "      <td>Private</td>\n",
       "      <td>11th</td>\n",
       "      <td>7</td>\n",
       "      <td>Never-married</td>\n",
       "      <td>Machine-op-inspct</td>\n",
       "      <td>Own-child</td>\n",
       "      <td>Black</td>\n",
       "      <td>Male</td>\n",
       "      <td>0</td>\n",
       "      <td>0</td>\n",
       "      <td>40</td>\n",
       "      <td>United-States</td>\n",
       "      <td>&lt;=50K</td>\n",
       "    </tr>\n",
       "    <tr>\n",
       "      <th>1</th>\n",
       "      <td>38</td>\n",
       "      <td>Private</td>\n",
       "      <td>HS-grad</td>\n",
       "      <td>9</td>\n",
       "      <td>Married-civ-spouse</td>\n",
       "      <td>Farming-fishing</td>\n",
       "      <td>Husband</td>\n",
       "      <td>White</td>\n",
       "      <td>Male</td>\n",
       "      <td>0</td>\n",
       "      <td>0</td>\n",
       "      <td>50</td>\n",
       "      <td>United-States</td>\n",
       "      <td>&lt;=50K</td>\n",
       "    </tr>\n",
       "    <tr>\n",
       "      <th>2</th>\n",
       "      <td>28</td>\n",
       "      <td>Local-gov</td>\n",
       "      <td>Assoc-acdm</td>\n",
       "      <td>12</td>\n",
       "      <td>Married-civ-spouse</td>\n",
       "      <td>Protective-serv</td>\n",
       "      <td>Husband</td>\n",
       "      <td>White</td>\n",
       "      <td>Male</td>\n",
       "      <td>0</td>\n",
       "      <td>0</td>\n",
       "      <td>40</td>\n",
       "      <td>United-States</td>\n",
       "      <td>&gt;50K</td>\n",
       "    </tr>\n",
       "    <tr>\n",
       "      <th>3</th>\n",
       "      <td>44</td>\n",
       "      <td>Private</td>\n",
       "      <td>Some-college</td>\n",
       "      <td>10</td>\n",
       "      <td>Married-civ-spouse</td>\n",
       "      <td>Machine-op-inspct</td>\n",
       "      <td>Husband</td>\n",
       "      <td>Black</td>\n",
       "      <td>Male</td>\n",
       "      <td>7688</td>\n",
       "      <td>0</td>\n",
       "      <td>40</td>\n",
       "      <td>United-States</td>\n",
       "      <td>&gt;50K</td>\n",
       "    </tr>\n",
       "    <tr>\n",
       "      <th>4</th>\n",
       "      <td>34</td>\n",
       "      <td>Private</td>\n",
       "      <td>10th</td>\n",
       "      <td>6</td>\n",
       "      <td>Never-married</td>\n",
       "      <td>Other-service</td>\n",
       "      <td>Not-in-family</td>\n",
       "      <td>White</td>\n",
       "      <td>Male</td>\n",
       "      <td>0</td>\n",
       "      <td>0</td>\n",
       "      <td>30</td>\n",
       "      <td>United-States</td>\n",
       "      <td>&lt;=50K</td>\n",
       "    </tr>\n",
       "  </tbody>\n",
       "</table>\n",
       "</div>"
      ],
      "text/plain": [
       "   age   workclass      education  educationno        maritalstatus  \\\n",
       "0   25     Private           11th            7        Never-married   \n",
       "1   38     Private        HS-grad            9   Married-civ-spouse   \n",
       "2   28   Local-gov     Assoc-acdm           12   Married-civ-spouse   \n",
       "3   44     Private   Some-college           10   Married-civ-spouse   \n",
       "4   34     Private           10th            6        Never-married   \n",
       "\n",
       "           occupation    relationship    race    sex  capitalgain  \\\n",
       "0   Machine-op-inspct       Own-child   Black   Male            0   \n",
       "1     Farming-fishing         Husband   White   Male            0   \n",
       "2     Protective-serv         Husband   White   Male            0   \n",
       "3   Machine-op-inspct         Husband   Black   Male         7688   \n",
       "4       Other-service   Not-in-family   White   Male            0   \n",
       "\n",
       "   capitalloss  hoursperweek          native  Salary  \n",
       "0            0            40   United-States   <=50K  \n",
       "1            0            50   United-States   <=50K  \n",
       "2            0            40   United-States    >50K  \n",
       "3            0            40   United-States    >50K  \n",
       "4            0            30   United-States   <=50K  "
      ]
     },
     "execution_count": 4,
     "metadata": {},
     "output_type": "execute_result"
    }
   ],
   "source": [
    "test.head()"
   ]
  },
  {
   "cell_type": "code",
   "execution_count": 5,
   "id": "d604ac61",
   "metadata": {
    "ExecuteTime": {
     "end_time": "2023-04-06T15:10:02.924233Z",
     "start_time": "2023-04-06T15:10:02.861768Z"
    }
   },
   "outputs": [
    {
     "data": {
      "text/plain": [
       "age              0\n",
       "workclass        0\n",
       "education        0\n",
       "educationno      0\n",
       "maritalstatus    0\n",
       "occupation       0\n",
       "relationship     0\n",
       "race             0\n",
       "sex              0\n",
       "capitalgain      0\n",
       "capitalloss      0\n",
       "hoursperweek     0\n",
       "native           0\n",
       "Salary           0\n",
       "dtype: int64"
      ]
     },
     "execution_count": 5,
     "metadata": {},
     "output_type": "execute_result"
    }
   ],
   "source": [
    "train.isnull().sum()"
   ]
  },
  {
   "cell_type": "code",
   "execution_count": 6,
   "id": "5ca14df8",
   "metadata": {
    "ExecuteTime": {
     "end_time": "2023-04-06T15:10:02.955434Z",
     "start_time": "2023-04-06T15:10:02.924233Z"
    }
   },
   "outputs": [
    {
     "data": {
      "text/plain": [
       "age              0\n",
       "workclass        0\n",
       "education        0\n",
       "educationno      0\n",
       "maritalstatus    0\n",
       "occupation       0\n",
       "relationship     0\n",
       "race             0\n",
       "sex              0\n",
       "capitalgain      0\n",
       "capitalloss      0\n",
       "hoursperweek     0\n",
       "native           0\n",
       "Salary           0\n",
       "dtype: int64"
      ]
     },
     "execution_count": 6,
     "metadata": {},
     "output_type": "execute_result"
    }
   ],
   "source": [
    "test.isnull().sum()"
   ]
  },
  {
   "cell_type": "code",
   "execution_count": 7,
   "id": "b638bbb7",
   "metadata": {
    "ExecuteTime": {
     "end_time": "2023-04-06T15:10:03.002413Z",
     "start_time": "2023-04-06T15:10:02.955434Z"
    }
   },
   "outputs": [
    {
     "name": "stdout",
     "output_type": "stream",
     "text": [
      "<class 'pandas.core.frame.DataFrame'>\n",
      "RangeIndex: 30161 entries, 0 to 30160\n",
      "Data columns (total 14 columns):\n",
      " #   Column         Non-Null Count  Dtype \n",
      "---  ------         --------------  ----- \n",
      " 0   age            30161 non-null  int64 \n",
      " 1   workclass      30161 non-null  object\n",
      " 2   education      30161 non-null  object\n",
      " 3   educationno    30161 non-null  int64 \n",
      " 4   maritalstatus  30161 non-null  object\n",
      " 5   occupation     30161 non-null  object\n",
      " 6   relationship   30161 non-null  object\n",
      " 7   race           30161 non-null  object\n",
      " 8   sex            30161 non-null  object\n",
      " 9   capitalgain    30161 non-null  int64 \n",
      " 10  capitalloss    30161 non-null  int64 \n",
      " 11  hoursperweek   30161 non-null  int64 \n",
      " 12  native         30161 non-null  object\n",
      " 13  Salary         30161 non-null  object\n",
      "dtypes: int64(5), object(9)\n",
      "memory usage: 3.2+ MB\n"
     ]
    }
   ],
   "source": [
    "train.info()"
   ]
  },
  {
   "cell_type": "code",
   "execution_count": 8,
   "id": "3de9fee7",
   "metadata": {
    "ExecuteTime": {
     "end_time": "2023-04-06T15:10:03.049269Z",
     "start_time": "2023-04-06T15:10:03.002413Z"
    }
   },
   "outputs": [
    {
     "name": "stdout",
     "output_type": "stream",
     "text": [
      "<class 'pandas.core.frame.DataFrame'>\n",
      "RangeIndex: 15060 entries, 0 to 15059\n",
      "Data columns (total 14 columns):\n",
      " #   Column         Non-Null Count  Dtype \n",
      "---  ------         --------------  ----- \n",
      " 0   age            15060 non-null  int64 \n",
      " 1   workclass      15060 non-null  object\n",
      " 2   education      15060 non-null  object\n",
      " 3   educationno    15060 non-null  int64 \n",
      " 4   maritalstatus  15060 non-null  object\n",
      " 5   occupation     15060 non-null  object\n",
      " 6   relationship   15060 non-null  object\n",
      " 7   race           15060 non-null  object\n",
      " 8   sex            15060 non-null  object\n",
      " 9   capitalgain    15060 non-null  int64 \n",
      " 10  capitalloss    15060 non-null  int64 \n",
      " 11  hoursperweek   15060 non-null  int64 \n",
      " 12  native         15060 non-null  object\n",
      " 13  Salary         15060 non-null  object\n",
      "dtypes: int64(5), object(9)\n",
      "memory usage: 1.6+ MB\n"
     ]
    }
   ],
   "source": [
    "test.info()"
   ]
  },
  {
   "cell_type": "code",
   "execution_count": 9,
   "id": "d8285770",
   "metadata": {
    "ExecuteTime": {
     "end_time": "2023-04-06T15:10:03.691061Z",
     "start_time": "2023-04-06T15:10:03.049269Z"
    }
   },
   "outputs": [
    {
     "data": {
      "text/plain": [
       "<AxesSubplot:>"
      ]
     },
     "execution_count": 9,
     "metadata": {},
     "output_type": "execute_result"
    },
    {
     "data": {
      "image/png": "[encoded data removed]",
      "text/plain": [
       "<Figure size 640x480 with 2 Axes>"
      ]
     },
     "metadata": {},
     "output_type": "display_data"
    }
   ],
   "source": [
    "sns.heatmap(train.isnull())"
   ]
  },
  {
   "cell_type": "code",
   "execution_count": null,
   "id": "dbe589d2",
   "metadata": {
    "ExecuteTime": {
     "end_time": "2023-04-06T14:44:25.886773Z",
     "start_time": "2023-04-06T14:44:25.065442Z"
    }
   },
   "outputs": [],
   "source": []
  },
  {
   "cell_type": "code",
   "execution_count": 10,
   "id": "a9651436",
   "metadata": {
    "ExecuteTime": {
     "end_time": "2023-04-06T15:10:04.051321Z",
     "start_time": "2023-04-06T15:10:03.691061Z"
    }
   },
   "outputs": [
    {
     "ename": "NameError",
     "evalue": "name 'df1' is not defined",
     "output_type": "error",
     "traceback": [
      "\u001b[1;31m---------------------------------------------------------------------------\u001b[0m",
      "\u001b[1;31mNameError\u001b[0m                                 Traceback (most recent call last)",
      "\u001b[1;32m~\\AppData\\Local\\Temp\\ipykernel_1424\\1478599792.py\u001b[0m in \u001b[0;36m<module>\u001b[1;34m\u001b[0m\n\u001b[0;32m      1\u001b[0m \u001b[1;31m#workclass\u001b[0m\u001b[1;33m\u001b[0m\u001b[1;33m\u001b[0m\u001b[0m\n\u001b[0;32m      2\u001b[0m \u001b[0mplt\u001b[0m\u001b[1;33m.\u001b[0m\u001b[0mfigure\u001b[0m\u001b[1;33m(\u001b[0m\u001b[0mfigsize\u001b[0m\u001b[1;33m=\u001b[0m\u001b[1;33m(\u001b[0m\u001b[1;36m12\u001b[0m\u001b[1;33m,\u001b[0m\u001b[1;36m5\u001b[0m\u001b[1;33m)\u001b[0m\u001b[1;33m)\u001b[0m\u001b[1;33m\u001b[0m\u001b[1;33m\u001b[0m\u001b[0m\n\u001b[1;32m----> 3\u001b[1;33m \u001b[0mdf1\u001b[0m\u001b[1;33m.\u001b[0m\u001b[0mworkclass\u001b[0m\u001b[1;33m.\u001b[0m\u001b[0mvalue_counts\u001b[0m\u001b[1;33m(\u001b[0m\u001b[1;33m)\u001b[0m\u001b[1;33m.\u001b[0m\u001b[0mplot\u001b[0m\u001b[1;33m.\u001b[0m\u001b[0mbar\u001b[0m\u001b[1;33m(\u001b[0m\u001b[0mcolor\u001b[0m\u001b[1;33m=\u001b[0m\u001b[1;34m'blue'\u001b[0m\u001b[1;33m)\u001b[0m\u001b[1;33m;\u001b[0m\u001b[1;33m\u001b[0m\u001b[1;33m\u001b[0m\u001b[0m\n\u001b[0m",
      "\u001b[1;31mNameError\u001b[0m: name 'df1' is not defined"
     ]
    },
    {
     "data": {
      "text/plain": [
       "<Figure size 1200x500 with 0 Axes>"
      ]
     },
     "metadata": {},
     "output_type": "display_data"
    }
   ],
   "source": [
    "#workclass\n",
    "plt.figure(figsize=(12,5))\n",
    "df1.workclass.value_counts().plot.bar(color='blue');"
   ]
  },
  {
   "cell_type": "code",
   "execution_count": null,
   "id": "dfe60fc3",
   "metadata": {
    "ExecuteTime": {
     "end_time": "2023-04-06T15:10:04.051321Z",
     "start_time": "2023-04-06T15:10:04.051321Z"
    },
    "scrolled": true
   },
   "outputs": [],
   "source": [
    "#maritial status\n",
    "plt.figure(figsize=(12,5))\n",
    "df1.maritalstatus.value_counts().plot.bar(color='orange');"
   ]
  },
  {
   "cell_type": "code",
   "execution_count": null,
   "id": "d258d894",
   "metadata": {
    "ExecuteTime": {
     "end_time": "2023-04-06T15:10:04.051321Z",
     "start_time": "2023-04-06T15:10:04.051321Z"
    }
   },
   "outputs": [],
   "source": [
    "#occupation\n",
    "plt.figure(figsize=(12,5))\n",
    "df1.occupation.value_counts().plot.bar(color='yellow');"
   ]
  },
  {
   "cell_type": "code",
   "execution_count": null,
   "id": "9a22f49c",
   "metadata": {
    "ExecuteTime": {
     "end_time": "2023-04-06T15:10:04.051321Z",
     "start_time": "2023-04-06T15:10:04.051321Z"
    }
   },
   "outputs": [],
   "source": [
    "#relationship\n",
    "plt.figure(figsize=(12,5))\n",
    "df1.relationship.value_counts().plot.bar(color='black');"
   ]
  },
  {
   "cell_type": "code",
   "execution_count": null,
   "id": "6bf83499",
   "metadata": {
    "ExecuteTime": {
     "end_time": "2023-04-06T15:10:04.051321Z",
     "start_time": "2023-04-06T15:10:04.051321Z"
    }
   },
   "outputs": [],
   "source": [
    "#race\n",
    "plt.figure(figsize=(12,5))\n",
    "df1.race.value_counts().plot.bar(color='green');"
   ]
  },
  {
   "cell_type": "code",
   "execution_count": null,
   "id": "056ba4d8",
   "metadata": {
    "ExecuteTime": {
     "end_time": "2023-04-06T15:10:04.051321Z",
     "start_time": "2023-04-06T15:10:04.051321Z"
    }
   },
   "outputs": [],
   "source": [
    "#sex\n",
    "plt.figure(figsize=(12,5))\n",
    "df1.sex.value_counts().plot.bar(color='brown');"
   ]
  },
  {
   "cell_type": "code",
   "execution_count": null,
   "id": "c7dcb696",
   "metadata": {
    "ExecuteTime": {
     "end_time": "2023-04-06T15:10:04.051321Z",
     "start_time": "2023-04-06T15:10:04.051321Z"
    }
   },
   "outputs": [],
   "source": [
    "#salary\n",
    "plt.figure(figsize=(12,5))\n",
    "df1.Salary.value_counts().plot.bar(color='grey');"
   ]
  },
  {
   "cell_type": "code",
   "execution_count": null,
   "id": "9f6160c2",
   "metadata": {
    "ExecuteTime": {
     "end_time": "2023-04-06T14:21:11.544891Z",
     "start_time": "2023-04-06T14:21:11.530153Z"
    }
   },
   "outputs": [],
   "source": []
  },
  {
   "cell_type": "code",
   "execution_count": null,
   "id": "1ece07d3",
   "metadata": {
    "ExecuteTime": {
     "end_time": "2023-04-06T15:10:04.051321Z",
     "start_time": "2023-04-06T15:10:04.051321Z"
    }
   },
   "outputs": [],
   "source": [
    "data1 = pd.concat([train,test], axis= 0).reset_index(drop=True)\n",
    "\n",
    "data1.head()"
   ]
  },
  {
   "cell_type": "code",
   "execution_count": null,
   "id": "52cb14b9",
   "metadata": {
    "ExecuteTime": {
     "end_time": "2023-04-06T15:10:04.051321Z",
     "start_time": "2023-04-06T15:10:04.051321Z"
    }
   },
   "outputs": [],
   "source": [
    "\n",
    "sns.heatmap(train.corr(), annot=True)"
   ]
  },
  {
   "cell_type": "code",
   "execution_count": null,
   "id": "49f00b65",
   "metadata": {
    "ExecuteTime": {
     "end_time": "2023-04-06T15:10:04.067110Z",
     "start_time": "2023-04-06T15:10:04.067110Z"
    }
   },
   "outputs": [],
   "source": [
    "sns.heatmap(test.corr(), annot=True)"
   ]
  },
  {
   "cell_type": "code",
   "execution_count": null,
   "id": "c7aaf880",
   "metadata": {
    "ExecuteTime": {
     "end_time": "2023-04-06T15:10:04.067110Z",
     "start_time": "2023-04-06T15:10:04.067110Z"
    }
   },
   "outputs": [],
   "source": [
    "train1 = train.iloc[:,0:13]\n",
    "\n",
    "train1 = pd.get_dummies(train1)\n",
    "train1"
   ]
  },
  {
   "cell_type": "code",
   "execution_count": null,
   "id": "69f05802",
   "metadata": {
    "ExecuteTime": {
     "end_time": "2023-04-06T15:10:04.067110Z",
     "start_time": "2023-04-06T15:10:04.067110Z"
    }
   },
   "outputs": [],
   "source": [
    "finaltrain = pd.concat([train1, train['Salary']], axis=1)\n",
    "finaltrain"
   ]
  },
  {
   "cell_type": "code",
   "execution_count": null,
   "id": "d834d79a",
   "metadata": {
    "ExecuteTime": {
     "end_time": "2023-04-06T15:10:04.067110Z",
     "start_time": "2023-04-06T15:10:04.067110Z"
    }
   },
   "outputs": [],
   "source": [
    "test1 = test.iloc[:,0:13]\n",
    "\n",
    "test1= pd.get_dummies(test1)\n",
    "test1"
   ]
  },
  {
   "cell_type": "code",
   "execution_count": null,
   "id": "967ab420",
   "metadata": {
    "ExecuteTime": {
     "end_time": "2023-04-06T15:10:04.082632Z",
     "start_time": "2023-04-06T15:10:04.082632Z"
    }
   },
   "outputs": [],
   "source": [
    "finaltest = pd.concat([test1, test['Salary']], axis=1)\n",
    "finaltest"
   ]
  },
  {
   "cell_type": "code",
   "execution_count": null,
   "id": "bfd1777b",
   "metadata": {
    "ExecuteTime": {
     "end_time": "2023-04-06T15:10:04.082632Z",
     "start_time": "2023-04-06T15:10:04.082632Z"
    }
   },
   "outputs": [],
   "source": [
    "X = finaltrain.values[:,0:102]\n",
    "Y = finaltrain.values[:,102]\n",
    "\n",
    "x = finaltest.values[:,0:102]\n",
    "y = finaltest.values[:,102]"
   ]
  },
  {
   "cell_type": "code",
   "execution_count": null,
   "id": "d28a83df",
   "metadata": {
    "ExecuteTime": {
     "end_time": "2023-04-06T15:10:04.082632Z",
     "start_time": "2023-04-06T15:10:04.082632Z"
    }
   },
   "outputs": [],
   "source": [
    "from sklearn.naive_bayes import MultinomialNB as MB\n",
    "from sklearn.naive_bayes import GaussianNB as GB"
   ]
  },
  {
   "cell_type": "code",
   "execution_count": null,
   "id": "9bbeb91e",
   "metadata": {
    "ExecuteTime": {
     "end_time": "2023-04-06T15:10:04.082632Z",
     "start_time": "2023-04-06T15:10:04.082632Z"
    }
   },
   "outputs": [],
   "source": [
    "classifier_mb = MB()\n",
    "classifier_mb.fit(X,Y)\n",
    "train_pred_m = classifier_mb.predict(X)\n",
    "accuracy_train_m = np.mean(train_pred_m==Y)\n",
    "\n",
    "\n",
    "test_pred_m = classifier_mb.predict(x)\n",
    "accuracy_test_m= np.mean(test_pred_m==y)"
   ]
  },
  {
   "cell_type": "code",
   "execution_count": null,
   "id": "e35dee16",
   "metadata": {
    "ExecuteTime": {
     "end_time": "2023-04-06T15:10:04.082632Z",
     "start_time": "2023-04-06T15:10:04.082632Z"
    }
   },
   "outputs": [],
   "source": [
    "print('Training accuracy is:',accuracy_train_m,'\\n','Testing accuracy is:',accuracy_test_m)"
   ]
  },
  {
   "cell_type": "code",
   "execution_count": null,
   "id": "bff88085",
   "metadata": {
    "ExecuteTime": {
     "end_time": "2023-04-06T15:10:04.082632Z",
     "start_time": "2023-04-06T15:10:04.082632Z"
    }
   },
   "outputs": [],
   "source": [
    "# Gaussian Naive Bayes \n",
    "classifier_gb = GB()\n",
    "classifier_gb.fit(X,Y) # we need to convert tfidf into array format which is compatible for gaussian naive bayes\n",
    "train_pred_g = classifier_gb.predict(X)\n",
    "accuracy_train_g = np.mean(train_pred_g==Y)\n",
    "\n",
    "test_pred_g = classifier_gb.predict(x)\n",
    "accuracy_test_g = np.mean(test_pred_g==y)\n",
    "\n"
   ]
  },
  {
   "cell_type": "code",
   "execution_count": null,
   "id": "efbd0f23",
   "metadata": {
    "ExecuteTime": {
     "end_time": "2023-04-06T15:10:04.082632Z",
     "start_time": "2023-04-06T15:10:04.082632Z"
    }
   },
   "outputs": [],
   "source": [
    "print('Training accuracy is:',accuracy_train_g,'\\n','Testing accuracy is:',accuracy_test_g)"
   ]
  },
  {
   "cell_type": "code",
   "execution_count": null,
   "id": "2b686df1",
   "metadata": {},
   "outputs": [],
   "source": []
  }
 ],
 "metadata": {
  "kernelspec": {
   "display_name": "Python 3 (ipykernel)",
   "language": "python",
   "name": "python3"
  },
  "language_info": {
   "codemirror_mode": {
    "name": "ipython",
    "version": 3
   },
   "file_extension": ".py",
   "mimetype": "text/x-python",
   "name": "python",
   "nbconvert_exporter": "python",
   "pygments_lexer": "ipython3",
   "version": "3.9.13"
  }
 },
 "nbformat": 4,
 "nbformat_minor": 5
}
